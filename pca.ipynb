{
 "cells": [
  {
   "attachments": {},
   "cell_type": "markdown",
   "metadata": {},
   "source": [
    "We'll go through Principal Component Analysis in terms of the 3 building blocks:\n",
    "1. Mean Centering\n",
    "2. Covariance Matrix\n",
    "3. Eigendecomposition\n",
    "\n",
    "Finally, we'll see how everything comes into the picture of\n",
    "\n",
    "4. Dimensionality Reduction"
   ]
  },
  {
   "attachments": {},
   "cell_type": "markdown",
   "metadata": {},
   "source": [
    "## 0. Create Data\n",
    "First, let's create some mock data, so we could visualize what each step does along the way of our implementation."
   ]
  },
  {
   "cell_type": "code",
   "execution_count": 1,
   "metadata": {},
   "outputs": [],
   "source": [
    "import numpy as np\n",
    "import matplotlib.pyplot as plt"
   ]
  },
  {
   "cell_type": "code",
   "execution_count": 2,
   "metadata": {},
   "outputs": [],
   "source": [
    "# set random seed for reproducibility\n",
    "np.random.seed(100)\n",
    "\n",
    "# number of points we want in our data\n",
    "n_points = 100\n",
    "\n",
    "# we'll go with 2-dimensional data for easier visualization\n",
    "data = np.random.randn(2, n_points)"
   ]
  },
  {
   "cell_type": "code",
   "execution_count": 3,
   "metadata": {},
   "outputs": [
    {
     "data": {
      "image/png": "[encoded data removed]",
      "text/plain": [
       "<Figure size 432x288 with 1 Axes>"
      ]
     },
     "metadata": {
      "needs_background": "light"
     },
     "output_type": "display_data"
    }
   ],
   "source": [
    "plt.scatter(*data)\n",
    "plt.show()"
   ]
  },
  {
   "attachments": {},
   "cell_type": "markdown",
   "metadata": {},
   "source": [
    "Not quite the shape of data we want. Let's squish and squash the data a little bit to get it into the shape we want."
   ]
  },
  {
   "cell_type": "code",
   "execution_count": 4,
   "metadata": {},
   "outputs": [
    {
     "data": {
      "image/png": "[encoded data removed]",
      "text/plain": [
       "<Figure size 432x288 with 1 Axes>"
      ]
     },
     "metadata": {
      "needs_background": "light"
     },
     "output_type": "display_data"
    }
   ],
   "source": [
    "# random matrix to transform (rotate & squish) our data\n",
    "transform_matrix = np.array([[5,3], [2,3]])\n",
    "\n",
    "# move the data so that the data is not centered at (0,0)\n",
    "x_translate = 5\n",
    "y_translate = 3\n",
    "data = np.dot(data.T, transform_matrix).T + np.array([[x_translate], [y_translate]])\n",
    "\n",
    "# plot\n",
    "plt.scatter(*data)\n",
    "plt.show()"
   ]
  },
  {
   "attachments": {},
   "cell_type": "markdown",
   "metadata": {},
   "source": [
    "There we go! The data now looks much more familiar, right?"
   ]
  },
  {
   "attachments": {},
   "cell_type": "markdown",
   "metadata": {},
   "source": [
    "# 1. Center Data\n",
    "Mean-centering the data is an integral step because PCA is a variance-based technique which seeks to find the directions of maximum variance in the data."
   ]
  },
  {
   "attachments": {},
   "cell_type": "markdown",
   "metadata": {},
   "source": [
    "Centering the data is easy:\n",
    "1. Compute the mean of each variable. This is equivalent to finding the mid points of our data at the x- and y-axis.\n",
    "2. Subtract the mean"
   ]
  },
  {
   "cell_type": "code",
   "execution_count": 5,
   "metadata": {},
   "outputs": [
    {
     "data": {
      "text/plain": [
       "(100, 2)"
      ]
     },
     "execution_count": 5,
     "metadata": {},
     "output_type": "execute_result"
    }
   ],
   "source": [
    "# let's transpose the data to get it into a shape we are used to: (observations, columns)\n",
    "data = data.T\n",
    "data.shape"
   ]
  },
  {
   "cell_type": "code",
   "execution_count": 6,
   "metadata": {},
   "outputs": [],
   "source": [
    "# mean\n",
    "col_mean = data.mean(axis=0)\n",
    "\n",
    "# subtract mean\n",
    "data_centered = data - col_mean"
   ]
  },
  {
   "cell_type": "code",
   "execution_count": 7,
   "metadata": {},
   "outputs": [
    {
     "data": {
      "image/png": "[encoded data removed]",
      "text/plain": [
       "<Figure size 432x288 with 1 Axes>"
      ]
     },
     "metadata": {
      "needs_background": "light"
     },
     "output_type": "display_data"
    }
   ],
   "source": [
    "# plot\n",
    "plt.scatter(*data_centered.T)\n",
    "plt.show()"
   ]
  },
  {
   "attachments": {},
   "cell_type": "markdown",
   "metadata": {},
   "source": [
    "See? Our data is now centered at the origin (0, 0). How easy."
   ]
  },
  {
   "attachments": {},
   "cell_type": "markdown",
   "metadata": {},
   "source": [
    "## 2. Covariance Matrix\n",
    "The covariance matrix plays an important role in estimating the relationship between variables and the variation in the data.\n",
    "\n",
    "By computing the covariance matrix, we get a summary of the relationships within (variance) & between (covariance) variables.\n",
    "- compute the n x n covariance matrix that looks like this:\n",
    "  $\\begin{pmatrix} Var(x) & Cov(x,y) \\\\ Cov(x,y) & Var(y)\\end{pmatrix}$\n",
    "- diagonal entries are the variance of every column\n",
    "- off-diagonal entries are the pairwise covariance between 2 columns\n",
    "- in case you forgot the formula for population variance and covariance\n",
    "  - $Var(x) = \\frac{\\Sigma(x_i - \\bar{x})^2}{n}$\n",
    "  - $Cov(x,y) = \\frac{\\Sigma(x_i - \\bar{x})(y_i - \\bar{y})}{n}$\n",
    "  - for sample variance & covariance, simply substitute $n$ with $n-1$"
   ]
  },
  {
   "cell_type": "code",
   "execution_count": 8,
   "metadata": {},
   "outputs": [
    {
     "data": {
      "text/plain": [
       "array([[24.94910452, 17.56856261],\n",
       "       [17.56856261, 15.80606432]])"
      ]
     },
     "execution_count": 8,
     "metadata": {},
     "output_type": "execute_result"
    }
   ],
   "source": [
    "# instead of the matrix by hand, there's a handy function in numpy that does exactly this\n",
    "cov_matrix = np.cov(data_centered.T) # by default np.cov uses ddof=1\n",
    "cov_matrix"
   ]
  },
  {
   "cell_type": "code",
   "execution_count": 9,
   "metadata": {},
   "outputs": [
    {
     "name": "stdout",
     "output_type": "stream",
     "text": [
      "24.94910452436487 15.806064315898084\n"
     ]
    }
   ],
   "source": [
    "# let's compute var(x) and var(y) for checking sake\n",
    "# we use ddof=1 for sample variance\n",
    "var_x = data_centered[:,0].var(ddof=1) \n",
    "var_y = data_centered[:,1].var(ddof=1)\n",
    "print(var_x, var_y)"
   ]
  },
  {
   "attachments": {},
   "cell_type": "markdown",
   "metadata": {},
   "source": [
    "## 3. Eigendecomposition\n",
    "From the covariance matrix, we then find the eigenvectors and eigenvalues.\n",
    "\n",
    "A quick refresher on what these eigen-stuff are:\n",
    "- eigenvectors: vectors that change by a scalar factor when a linear transformation by a matrix (i.e. the covariance matrix) is applied to it\n",
    "- eigenvalues: the scala factor or magnitude by which the eigenvector is scaled\n",
    "\n",
    "These eigen-stuff can be represented by this equation: $A v = \\lambda v$,\\\n",
    "where $A$ is the matrix, $v$ the eigenvector and $\\lambda$ the eigenvalue. \n",
    "\n",
    "Essentially what the equation says is: we apply a matrix transformation $A$ on $v$ such that $v$ only scaled by some scalar $\\lambda$ factor.\n"
   ]
  },
  {
   "attachments": {},
   "cell_type": "markdown",
   "metadata": {},
   "source": [
    "**What does eigendecomposition do in PCA, you ask.**\n",
    "\n",
    "**Short answer**: It is used to determine the principal components of the data.\n",
    "\n",
    "**Long answer**: Since the covariance matrix summarizes the relationship between variables, by decomposing the covariance matrix into eigenvectors and eigenvalues, they tell us the direction and magnitude of variance of our data.\n",
    "- An eigenvector tells us the **main direction** in which the data is spread\n",
    "- An eigenvalue tells us the **how much** the data is spread in that direction. A better way I'd like to understand this is **how important** it is."
   ]
  },
  {
   "attachments": {},
   "cell_type": "markdown",
   "metadata": {},
   "source": [
    "Now how do we compute these eigen-things? Linear algebra time baby.\n",
    "\n",
    "Here's the equation:\n",
    "\n",
    "$A = \\Phi \\Lambda \\Phi^{T}$ where,\n",
    "- $A$ is the matrix we are trying to decompose\n",
    "- $\\Phi$ is an n x n matrix of n eigenvector columns\n",
    "- $\\Lambda$ is a diagonal matrix with diagonal entries as the eigenvalues\n",
    "\n",
    "Wait, this is not a linear algebra class. We're trying understand the concepts and intuitions here, we're not math nerds doing proofs and derivations here (duh). Let's stop right here. We'll leave the dirty work of derivation to Numpy."
   ]
  },
  {
   "cell_type": "code",
   "execution_count": 10,
   "metadata": {},
   "outputs": [],
   "source": [
    "eigenvalues, eigenvectors = np.linalg.eig(cov_matrix)"
   ]
  },
  {
   "cell_type": "code",
   "execution_count": 11,
   "metadata": {},
   "outputs": [
    {
     "data": {
      "text/plain": [
       "(array([[ 0.79114614, -0.61162716],\n",
       "        [ 0.61162716,  0.79114614]]),\n",
       " array([38.53118429,  2.22398455]))"
      ]
     },
     "execution_count": 11,
     "metadata": {},
     "output_type": "execute_result"
    }
   ],
   "source": [
    "eigenvectors, eigenvalues\n"
   ]
  },
  {
   "attachments": {},
   "cell_type": "markdown",
   "metadata": {},
   "source": [
    "Eigenvectors are orthogonal, which is just a fancy way of saying they are perpendicular to each other.\n",
    "\n",
    "How do we know? By taking the inner product of the eigenvectors, the result should be 0."
   ]
  },
  {
   "cell_type": "code",
   "execution_count": 12,
   "metadata": {},
   "outputs": [
    {
     "data": {
      "text/plain": [
       "0.0"
      ]
     },
     "execution_count": 12,
     "metadata": {},
     "output_type": "execute_result"
    }
   ],
   "source": [
    "# dot product\n",
    "np.dot(eigenvectors[:, 0],eigenvectors[:, 1])"
   ]
  },
  {
   "attachments": {},
   "cell_type": "markdown",
   "metadata": {},
   "source": [
    "Let's visualize these eigen-stuff!"
   ]
  },
  {
   "cell_type": "code",
   "execution_count": 13,
   "metadata": {},
   "outputs": [
    {
     "data": {
      "image/png": "[encoded data removed]",
      "text/plain": [
       "<Figure size 432x288 with 1 Axes>"
      ]
     },
     "metadata": {
      "needs_background": "light"
     },
     "output_type": "display_data"
    }
   ],
   "source": [
    "# plot\n",
    "plt.scatter(*data_centered.T)\n",
    "\n",
    "# first eigenvector\n",
    "eigen_vec_1 = eigenvectors[:, 0]*eigenvalues[0]\n",
    "plt.plot([0, eigen_vec_1[0]], [0, eigen_vec_1[1]], color='red')\n",
    "\n",
    "# second eigenvector\n",
    "eigen_vec_2 = eigenvectors[:, 1]*eigenvalues[1]\n",
    "plt.plot([0, eigen_vec_2[0]], [0, eigen_vec_2[1]], color='red')\n",
    "plt.show()\n"
   ]
  },
  {
   "attachments": {},
   "cell_type": "markdown",
   "metadata": {},
   "source": [
    "In case you are wondering why the two vectors do not look quite perpendicular to each other in the plot, it's just because the x-axis and y-axis scales are a little different."
   ]
  },
  {
   "attachments": {},
   "cell_type": "markdown",
   "metadata": {},
   "source": [
    "Now what do we do after finding out the eigenvectors? \n",
    "\n",
    "We'll use the eigenvectors as the new axes for our data. Essentially, we rotate our data to fit these new axes, which is simply a matrix multiplication between the original data and the eigenvector matrix\n",
    "\n",
    "FYI, in linear algebra, there's a unnecessarily fancy term for this: change of basis."
   ]
  },
  {
   "cell_type": "code",
   "execution_count": 14,
   "metadata": {},
   "outputs": [
    {
     "data": {
      "image/png": "[encoded data removed]",
      "text/plain": [
       "<Figure size 432x288 with 1 Axes>"
      ]
     },
     "metadata": {
      "needs_background": "light"
     },
     "output_type": "display_data"
    }
   ],
   "source": [
    "data_centered_rotate = data_centered@eigenvectors\n",
    "plt.scatter(*data_centered_rotate.T)\n",
    "plt.show()"
   ]
  },
  {
   "attachments": {},
   "cell_type": "markdown",
   "metadata": {},
   "source": [
    "We can take this new data, which has been transformed into some new basis, and transform it back to it's original form, essentially reconstructing our data from a transformed space."
   ]
  },
  {
   "cell_type": "code",
   "execution_count": 15,
   "metadata": {},
   "outputs": [
    {
     "data": {
      "image/png": "[encoded data removed]",
      "text/plain": [
       "<Figure size 432x288 with 1 Axes>"
      ]
     },
     "metadata": {
      "needs_background": "light"
     },
     "output_type": "display_data"
    }
   ],
   "source": [
    "data_centered_reconstruct = data_centered_rotate@eigenvectors.T\n",
    "plt.scatter(*data_centered_reconstruct.T)\n",
    "plt.show()"
   ]
  },
  {
   "attachments": {},
   "cell_type": "markdown",
   "metadata": {},
   "source": [
    "## 4. Dimensionality Reduction\n",
    "PCA is all about reducing our data's dimensionality, we know that. But how do all of these crap above relate to dimensionality reduction?\n",
    "\n",
    "Here comes the juice. Lo and behold."
   ]
  },
  {
   "attachments": {},
   "cell_type": "markdown",
   "metadata": {},
   "source": [
    "We've talk about how eigenvectors are the principal components of our data and how eigenvalues basically indicates how representative a principal component is of our data.\n",
    "By looking at the eigenvalues, we can know which principal components are more important in capturing the information in our data. Therefore, by selecting the more important principal components, we should be able to reconstruct much of the original data. That's how dimensionality reduction works."
   ]
  },
  {
   "cell_type": "code",
   "execution_count": 16,
   "metadata": {},
   "outputs": [
    {
     "data": {
      "text/plain": [
       "array([38.53118429,  2.22398455])"
      ]
     },
     "execution_count": 16,
     "metadata": {},
     "output_type": "execute_result"
    }
   ],
   "source": [
    "eigenvalues"
   ]
  },
  {
   "attachments": {},
   "cell_type": "markdown",
   "metadata": {},
   "source": [
    "By looking at the eigenvalues, we can tell right away that the first principal component is far more important than the second one.\n",
    "\n",
    "In fact, there's a very easy method to quantify how much information each principal component captures:\n",
    "\n",
    "$ \\text{Explained Variance Ratio of  } PC_k = \\frac{\\lambda_k} {\\lambda_1 + \\ldots + \\lambda_n}$"
   ]
  },
  {
   "cell_type": "code",
   "execution_count": 17,
   "metadata": {},
   "outputs": [
    {
     "data": {
      "text/plain": [
       "0.9454306136759961"
      ]
     },
     "execution_count": 17,
     "metadata": {},
     "output_type": "execute_result"
    }
   ],
   "source": [
    "eigenvalues[0]/eigenvalues.sum()"
   ]
  },
  {
   "attachments": {},
   "cell_type": "markdown",
   "metadata": {},
   "source": [
    "Let's take only the first principal component.\n",
    "\n",
    "If we do the math, it has an explained variance ratio of ~95%, meaning we should recover 95% of the information by using only 1 principal component."
   ]
  },
  {
   "cell_type": "code",
   "execution_count": 18,
   "metadata": {},
   "outputs": [
    {
     "data": {
      "image/png": "[encoded data removed]",
      "text/plain": [
       "<Figure size 432x288 with 1 Axes>"
      ]
     },
     "metadata": {
      "needs_background": "light"
     },
     "output_type": "display_data"
    }
   ],
   "source": [
    "# project our data to the basis of the first PC\n",
    "data_centered_rotate = data_centered@eigenvectors[:,0]\n",
    "plt.scatter(data_centered_rotate, [0]*len(data_centered_rotate))\n",
    "plt.show()"
   ]
  },
  {
   "attachments": {},
   "cell_type": "markdown",
   "metadata": {},
   "source": [
    "Since we take only 1 principal component, our project is just 1-dimensional, i.e. a line.\n",
    "\n",
    "Now, let's transform our data from the projection space back to the original space."
   ]
  },
  {
   "cell_type": "code",
   "execution_count": 19,
   "metadata": {},
   "outputs": [
    {
     "data": {
      "image/png": "[encoded data removed]",
      "text/plain": [
       "<Figure size 432x288 with 1 Axes>"
      ]
     },
     "metadata": {
      "needs_background": "light"
     },
     "output_type": "display_data"
    }
   ],
   "source": [
    "# recontruct data from transformed space\n",
    "data_centered_reconstruct = data_centered_rotate.reshape(-1,1)@eigenvectors[:,0].reshape(1,-1)\n",
    "plt.scatter(*data_centered_reconstruct.T)\n",
    "plt.show()"
   ]
  },
  {
   "attachments": {},
   "cell_type": "markdown",
   "metadata": {},
   "source": [
    "As we can see, the data reconstructed from the first principal component is able to preserve the primary trend/pattern of the original data.\n",
    "\n",
    "And there we have it, dimensionality reduction via Principal Component Analysis. PCA is a very powerful technique in data science. It helps in identifying the underlying structure and pattern in high dimensional data and reducing it to lower dimensional representation without losing much information. It can be used in:\n",
    "- Noise reduction: as we can see in the example by applying PCA we essentially get rid of the noise and keep only the main trend/pattern of the data\n",
    "- Visualization: we are low dimensional species, we cannot visualize more than 3 dimensions. With PCA we can reduce high dimensional data into lower dimensions such that we can visualize the data and better understand it\n",
    "- Storage: dimensionality reduction is essentially data compression\n",
    "- Performance: reduce the size of data we feed into machine learning models allows for faster training\n",
    "\n"
   ]
  }
 ],
 "metadata": {
  "kernelspec": {
   "display_name": "base",
   "language": "python",
   "name": "python3"
  },
  "language_info": {
   "codemirror_mode": {
    "name": "ipython",
    "version": 3
   },
   "file_extension": ".py",
   "mimetype": "text/x-python",
   "name": "python",
   "nbconvert_exporter": "python",
   "pygments_lexer": "ipython3",
   "version": "3.9.12"
  },
  "orig_nbformat": 4,
  "vscode": {
   "interpreter": {
    "hash": "2d59829e856ecc8da3b928adad583801194efdadc7aa71fa7c39d3d39c851f1a"
   }
  }
 },
 "nbformat": 4,
 "nbformat_minor": 2
}
